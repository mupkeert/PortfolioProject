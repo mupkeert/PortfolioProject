{
 "cells": [
  {
   "cell_type": "markdown",
   "id": "e5dbd9b1",
   "metadata": {},
   "source": [
    "# <h1 align=\"center\"> K-Means Cluster"
   ]
  },
  {
   "cell_type": "code",
   "execution_count": 1,
   "id": "346b4c9e",
   "metadata": {},
   "outputs": [],
   "source": [
    "import numpy as np\n",
    "import pandas as pd\n",
    "import sklearn"
   ]
  },
  {
   "cell_type": "markdown",
   "id": "899b01cf",
   "metadata": {},
   "source": [
    "**Loading data from csv file to the data frame**"
   ]
  },
  {
   "cell_type": "code",
   "execution_count": 2,
   "id": "66bdb8a6",
   "metadata": {},
   "outputs": [
    {
     "data": {
      "text/html": [
       "<div>\n",
       "<style scoped>\n",
       "    .dataframe tbody tr th:only-of-type {\n",
       "        vertical-align: middle;\n",
       "    }\n",
       "\n",
       "    .dataframe tbody tr th {\n",
       "        vertical-align: top;\n",
       "    }\n",
       "\n",
       "    .dataframe thead th {\n",
       "        text-align: right;\n",
       "    }\n",
       "</style>\n",
       "<table border=\"1\" class=\"dataframe\">\n",
       "  <thead>\n",
       "    <tr style=\"text-align: right;\">\n",
       "      <th></th>\n",
       "      <th>ID</th>\n",
       "      <th>Year_Birth</th>\n",
       "      <th>Education</th>\n",
       "      <th>Marital_Status</th>\n",
       "      <th>Income</th>\n",
       "      <th>Kidhome</th>\n",
       "      <th>Teenhome</th>\n",
       "      <th>Dt_Customer</th>\n",
       "      <th>Recency</th>\n",
       "      <th>MntWines</th>\n",
       "      <th>...</th>\n",
       "      <th>NumWebVisitsMonth</th>\n",
       "      <th>AcceptedCmp3</th>\n",
       "      <th>AcceptedCmp4</th>\n",
       "      <th>AcceptedCmp5</th>\n",
       "      <th>AcceptedCmp1</th>\n",
       "      <th>AcceptedCmp2</th>\n",
       "      <th>Complain</th>\n",
       "      <th>Z_CostContact</th>\n",
       "      <th>Z_Revenue</th>\n",
       "      <th>Response</th>\n",
       "    </tr>\n",
       "  </thead>\n",
       "  <tbody>\n",
       "    <tr>\n",
       "      <th>0</th>\n",
       "      <td>5524</td>\n",
       "      <td>1957</td>\n",
       "      <td>Graduation</td>\n",
       "      <td>Single</td>\n",
       "      <td>58138.0</td>\n",
       "      <td>0</td>\n",
       "      <td>0</td>\n",
       "      <td>04/09/2012</td>\n",
       "      <td>58</td>\n",
       "      <td>635</td>\n",
       "      <td>...</td>\n",
       "      <td>7</td>\n",
       "      <td>0</td>\n",
       "      <td>0</td>\n",
       "      <td>0</td>\n",
       "      <td>0</td>\n",
       "      <td>0</td>\n",
       "      <td>0</td>\n",
       "      <td>3</td>\n",
       "      <td>11</td>\n",
       "      <td>1</td>\n",
       "    </tr>\n",
       "    <tr>\n",
       "      <th>1</th>\n",
       "      <td>2174</td>\n",
       "      <td>1954</td>\n",
       "      <td>Graduation</td>\n",
       "      <td>Single</td>\n",
       "      <td>46344.0</td>\n",
       "      <td>1</td>\n",
       "      <td>1</td>\n",
       "      <td>08/03/2014</td>\n",
       "      <td>38</td>\n",
       "      <td>11</td>\n",
       "      <td>...</td>\n",
       "      <td>5</td>\n",
       "      <td>0</td>\n",
       "      <td>0</td>\n",
       "      <td>0</td>\n",
       "      <td>0</td>\n",
       "      <td>0</td>\n",
       "      <td>0</td>\n",
       "      <td>3</td>\n",
       "      <td>11</td>\n",
       "      <td>0</td>\n",
       "    </tr>\n",
       "    <tr>\n",
       "      <th>2</th>\n",
       "      <td>4141</td>\n",
       "      <td>1965</td>\n",
       "      <td>Graduation</td>\n",
       "      <td>Together</td>\n",
       "      <td>71613.0</td>\n",
       "      <td>0</td>\n",
       "      <td>0</td>\n",
       "      <td>21/08/2013</td>\n",
       "      <td>26</td>\n",
       "      <td>426</td>\n",
       "      <td>...</td>\n",
       "      <td>4</td>\n",
       "      <td>0</td>\n",
       "      <td>0</td>\n",
       "      <td>0</td>\n",
       "      <td>0</td>\n",
       "      <td>0</td>\n",
       "      <td>0</td>\n",
       "      <td>3</td>\n",
       "      <td>11</td>\n",
       "      <td>0</td>\n",
       "    </tr>\n",
       "    <tr>\n",
       "      <th>3</th>\n",
       "      <td>6182</td>\n",
       "      <td>1984</td>\n",
       "      <td>Graduation</td>\n",
       "      <td>Together</td>\n",
       "      <td>26646.0</td>\n",
       "      <td>1</td>\n",
       "      <td>0</td>\n",
       "      <td>10/02/2014</td>\n",
       "      <td>26</td>\n",
       "      <td>11</td>\n",
       "      <td>...</td>\n",
       "      <td>6</td>\n",
       "      <td>0</td>\n",
       "      <td>0</td>\n",
       "      <td>0</td>\n",
       "      <td>0</td>\n",
       "      <td>0</td>\n",
       "      <td>0</td>\n",
       "      <td>3</td>\n",
       "      <td>11</td>\n",
       "      <td>0</td>\n",
       "    </tr>\n",
       "    <tr>\n",
       "      <th>4</th>\n",
       "      <td>5324</td>\n",
       "      <td>1981</td>\n",
       "      <td>PhD</td>\n",
       "      <td>Married</td>\n",
       "      <td>58293.0</td>\n",
       "      <td>1</td>\n",
       "      <td>0</td>\n",
       "      <td>19/01/2014</td>\n",
       "      <td>94</td>\n",
       "      <td>173</td>\n",
       "      <td>...</td>\n",
       "      <td>5</td>\n",
       "      <td>0</td>\n",
       "      <td>0</td>\n",
       "      <td>0</td>\n",
       "      <td>0</td>\n",
       "      <td>0</td>\n",
       "      <td>0</td>\n",
       "      <td>3</td>\n",
       "      <td>11</td>\n",
       "      <td>0</td>\n",
       "    </tr>\n",
       "    <tr>\n",
       "      <th>5</th>\n",
       "      <td>7446</td>\n",
       "      <td>1967</td>\n",
       "      <td>Master</td>\n",
       "      <td>Together</td>\n",
       "      <td>62513.0</td>\n",
       "      <td>0</td>\n",
       "      <td>1</td>\n",
       "      <td>09/09/2013</td>\n",
       "      <td>16</td>\n",
       "      <td>520</td>\n",
       "      <td>...</td>\n",
       "      <td>6</td>\n",
       "      <td>0</td>\n",
       "      <td>0</td>\n",
       "      <td>0</td>\n",
       "      <td>0</td>\n",
       "      <td>0</td>\n",
       "      <td>0</td>\n",
       "      <td>3</td>\n",
       "      <td>11</td>\n",
       "      <td>0</td>\n",
       "    </tr>\n",
       "    <tr>\n",
       "      <th>6</th>\n",
       "      <td>965</td>\n",
       "      <td>1971</td>\n",
       "      <td>Graduation</td>\n",
       "      <td>Divorced</td>\n",
       "      <td>55635.0</td>\n",
       "      <td>0</td>\n",
       "      <td>1</td>\n",
       "      <td>13/11/2012</td>\n",
       "      <td>34</td>\n",
       "      <td>235</td>\n",
       "      <td>...</td>\n",
       "      <td>6</td>\n",
       "      <td>0</td>\n",
       "      <td>0</td>\n",
       "      <td>0</td>\n",
       "      <td>0</td>\n",
       "      <td>0</td>\n",
       "      <td>0</td>\n",
       "      <td>3</td>\n",
       "      <td>11</td>\n",
       "      <td>0</td>\n",
       "    </tr>\n",
       "    <tr>\n",
       "      <th>7</th>\n",
       "      <td>6177</td>\n",
       "      <td>1985</td>\n",
       "      <td>PhD</td>\n",
       "      <td>Married</td>\n",
       "      <td>33454.0</td>\n",
       "      <td>1</td>\n",
       "      <td>0</td>\n",
       "      <td>08/05/2013</td>\n",
       "      <td>32</td>\n",
       "      <td>76</td>\n",
       "      <td>...</td>\n",
       "      <td>8</td>\n",
       "      <td>0</td>\n",
       "      <td>0</td>\n",
       "      <td>0</td>\n",
       "      <td>0</td>\n",
       "      <td>0</td>\n",
       "      <td>0</td>\n",
       "      <td>3</td>\n",
       "      <td>11</td>\n",
       "      <td>0</td>\n",
       "    </tr>\n",
       "    <tr>\n",
       "      <th>8</th>\n",
       "      <td>4855</td>\n",
       "      <td>1974</td>\n",
       "      <td>PhD</td>\n",
       "      <td>Together</td>\n",
       "      <td>30351.0</td>\n",
       "      <td>1</td>\n",
       "      <td>0</td>\n",
       "      <td>06/06/2013</td>\n",
       "      <td>19</td>\n",
       "      <td>14</td>\n",
       "      <td>...</td>\n",
       "      <td>9</td>\n",
       "      <td>0</td>\n",
       "      <td>0</td>\n",
       "      <td>0</td>\n",
       "      <td>0</td>\n",
       "      <td>0</td>\n",
       "      <td>0</td>\n",
       "      <td>3</td>\n",
       "      <td>11</td>\n",
       "      <td>1</td>\n",
       "    </tr>\n",
       "    <tr>\n",
       "      <th>9</th>\n",
       "      <td>5899</td>\n",
       "      <td>1950</td>\n",
       "      <td>PhD</td>\n",
       "      <td>Together</td>\n",
       "      <td>5648.0</td>\n",
       "      <td>1</td>\n",
       "      <td>1</td>\n",
       "      <td>13/03/2014</td>\n",
       "      <td>68</td>\n",
       "      <td>28</td>\n",
       "      <td>...</td>\n",
       "      <td>20</td>\n",
       "      <td>1</td>\n",
       "      <td>0</td>\n",
       "      <td>0</td>\n",
       "      <td>0</td>\n",
       "      <td>0</td>\n",
       "      <td>0</td>\n",
       "      <td>3</td>\n",
       "      <td>11</td>\n",
       "      <td>0</td>\n",
       "    </tr>\n",
       "  </tbody>\n",
       "</table>\n",
       "<p>10 rows × 29 columns</p>\n",
       "</div>"
      ],
      "text/plain": [
       "     ID  Year_Birth   Education Marital_Status   Income  Kidhome  Teenhome  \\\n",
       "0  5524        1957  Graduation         Single  58138.0        0         0   \n",
       "1  2174        1954  Graduation         Single  46344.0        1         1   \n",
       "2  4141        1965  Graduation       Together  71613.0        0         0   \n",
       "3  6182        1984  Graduation       Together  26646.0        1         0   \n",
       "4  5324        1981         PhD        Married  58293.0        1         0   \n",
       "5  7446        1967      Master       Together  62513.0        0         1   \n",
       "6   965        1971  Graduation       Divorced  55635.0        0         1   \n",
       "7  6177        1985         PhD        Married  33454.0        1         0   \n",
       "8  4855        1974         PhD       Together  30351.0        1         0   \n",
       "9  5899        1950         PhD       Together   5648.0        1         1   \n",
       "\n",
       "  Dt_Customer  Recency  MntWines  ...  NumWebVisitsMonth  AcceptedCmp3  \\\n",
       "0  04/09/2012       58       635  ...                  7             0   \n",
       "1  08/03/2014       38        11  ...                  5             0   \n",
       "2  21/08/2013       26       426  ...                  4             0   \n",
       "3  10/02/2014       26        11  ...                  6             0   \n",
       "4  19/01/2014       94       173  ...                  5             0   \n",
       "5  09/09/2013       16       520  ...                  6             0   \n",
       "6  13/11/2012       34       235  ...                  6             0   \n",
       "7  08/05/2013       32        76  ...                  8             0   \n",
       "8  06/06/2013       19        14  ...                  9             0   \n",
       "9  13/03/2014       68        28  ...                 20             1   \n",
       "\n",
       "   AcceptedCmp4  AcceptedCmp5  AcceptedCmp1  AcceptedCmp2  Complain  \\\n",
       "0             0             0             0             0         0   \n",
       "1             0             0             0             0         0   \n",
       "2             0             0             0             0         0   \n",
       "3             0             0             0             0         0   \n",
       "4             0             0             0             0         0   \n",
       "5             0             0             0             0         0   \n",
       "6             0             0             0             0         0   \n",
       "7             0             0             0             0         0   \n",
       "8             0             0             0             0         0   \n",
       "9             0             0             0             0         0   \n",
       "\n",
       "   Z_CostContact  Z_Revenue  Response  \n",
       "0              3         11         1  \n",
       "1              3         11         0  \n",
       "2              3         11         0  \n",
       "3              3         11         0  \n",
       "4              3         11         0  \n",
       "5              3         11         0  \n",
       "6              3         11         0  \n",
       "7              3         11         0  \n",
       "8              3         11         1  \n",
       "9              3         11         0  \n",
       "\n",
       "[10 rows x 29 columns]"
      ]
     },
     "execution_count": 2,
     "metadata": {},
     "output_type": "execute_result"
    }
   ],
   "source": [
    "columns = ['ID','Year_Birth','Education','Marital_Status','Income','Kidhome','Teenhome','Dt_Customer','Recency','MntWines','MntFruits','MntMeatProducts','MntFishProducts','MntSweetProducts','MntGoldProds','NumDealsPurchases','NumWebPurchases','NumCatalogPurchases','NumStorePurchases','NumWebVisitsMonth','AcceptedCmp3','AcceptedCmp4','AcceptedCmp5','AcceptedCmp1','AcceptedCmp2','Complain','Z_CostContact','Z_Revenue','Response']\n",
    "data = pd.read_csv('rawdataset.csv', sep=',', names=columns)\n",
    "data.head(10)"
   ]
  },
  {
   "cell_type": "code",
   "execution_count": 3,
   "id": "eaf05ee8",
   "metadata": {},
   "outputs": [
    {
     "data": {
      "text/plain": [
       "(2240, 29)"
      ]
     },
     "execution_count": 3,
     "metadata": {},
     "output_type": "execute_result"
    }
   ],
   "source": [
    "data.shape"
   ]
  },
  {
   "cell_type": "code",
   "execution_count": 4,
   "id": "7330b89f",
   "metadata": {},
   "outputs": [
    {
     "data": {
      "text/plain": [
       "ID                      0\n",
       "Year_Birth              0\n",
       "Education               0\n",
       "Marital_Status          0\n",
       "Income                 24\n",
       "Kidhome                 0\n",
       "Teenhome                0\n",
       "Dt_Customer             0\n",
       "Recency                 0\n",
       "MntWines                0\n",
       "MntFruits               0\n",
       "MntMeatProducts         0\n",
       "MntFishProducts         0\n",
       "MntSweetProducts        0\n",
       "MntGoldProds            0\n",
       "NumDealsPurchases       0\n",
       "NumWebPurchases         0\n",
       "NumCatalogPurchases     0\n",
       "NumStorePurchases       0\n",
       "NumWebVisitsMonth       0\n",
       "AcceptedCmp3            0\n",
       "AcceptedCmp4            0\n",
       "AcceptedCmp5            0\n",
       "AcceptedCmp1            0\n",
       "AcceptedCmp2            0\n",
       "Complain                0\n",
       "Z_CostContact           0\n",
       "Z_Revenue               0\n",
       "Response                0\n",
       "dtype: int64"
      ]
     },
     "execution_count": 4,
     "metadata": {},
     "output_type": "execute_result"
    }
   ],
   "source": [
    "data.isnull().sum()"
   ]
  },
  {
   "cell_type": "code",
   "execution_count": 5,
   "id": "b277a68f",
   "metadata": {},
   "outputs": [],
   "source": [
    "df=data.dropna()"
   ]
  },
  {
   "cell_type": "code",
   "execution_count": 6,
   "id": "6d3000f4",
   "metadata": {},
   "outputs": [],
   "source": [
    "df.reset_index(inplace=True)\n",
    "df = df.drop(['index'],axis =1)"
   ]
  },
  {
   "cell_type": "code",
   "execution_count": 7,
   "id": "c13ab2e3",
   "metadata": {},
   "outputs": [
    {
     "data": {
      "text/plain": [
       "Index(['ID', 'Year_Birth', 'Education', 'Marital_Status', 'Income', 'Kidhome',\n",
       "       'Teenhome', 'Dt_Customer', 'Recency', 'MntWines', 'MntFruits',\n",
       "       'MntMeatProducts', 'MntFishProducts', 'MntSweetProducts',\n",
       "       'MntGoldProds', 'NumDealsPurchases', 'NumWebPurchases',\n",
       "       'NumCatalogPurchases', 'NumStorePurchases', 'NumWebVisitsMonth',\n",
       "       'AcceptedCmp3', 'AcceptedCmp4', 'AcceptedCmp5', 'AcceptedCmp1',\n",
       "       'AcceptedCmp2', 'Complain', 'Z_CostContact', 'Z_Revenue', 'Response'],\n",
       "      dtype='object')"
      ]
     },
     "execution_count": 7,
     "metadata": {},
     "output_type": "execute_result"
    }
   ],
   "source": [
    "df.columns"
   ]
  },
  {
   "cell_type": "code",
   "execution_count": 8,
   "id": "64089e99",
   "metadata": {},
   "outputs": [
    {
     "data": {
      "text/plain": [
       "Married     857\n",
       "Together    573\n",
       "Single      471\n",
       "Divorced    232\n",
       "Widow        76\n",
       "Alone         3\n",
       "Absurd        2\n",
       "YOLO          2\n",
       "Name: Marital_Status, dtype: int64"
      ]
     },
     "execution_count": 8,
     "metadata": {},
     "output_type": "execute_result"
    }
   ],
   "source": [
    "df['Marital_Status'].value_counts()"
   ]
  },
  {
   "cell_type": "code",
   "execution_count": 9,
   "id": "1b497ae5",
   "metadata": {},
   "outputs": [
    {
     "data": {
      "text/plain": [
       "Graduation    1116\n",
       "PhD            481\n",
       "Master         365\n",
       "2n Cycle       200\n",
       "Basic           54\n",
       "Name: Education, dtype: int64"
      ]
     },
     "execution_count": 9,
     "metadata": {},
     "output_type": "execute_result"
    }
   ],
   "source": [
    "df[\"Education\"].value_counts()"
   ]
  },
  {
   "cell_type": "code",
   "execution_count": 10,
   "id": "4a6c2785",
   "metadata": {},
   "outputs": [],
   "source": [
    "df['Education'].replace({'2n Cycle': \"Master\", \n",
    "                          \"Graduation\":'Bachelor'}, inplace=True)"
   ]
  },
  {
   "cell_type": "code",
   "execution_count": 11,
   "id": "6f9366a4",
   "metadata": {},
   "outputs": [
    {
     "data": {
      "text/plain": [
       "Bachelor    1116\n",
       "Master       565\n",
       "PhD          481\n",
       "Basic         54\n",
       "Name: Education, dtype: int64"
      ]
     },
     "execution_count": 11,
     "metadata": {},
     "output_type": "execute_result"
    }
   ],
   "source": [
    "df[\"Education\"].value_counts()"
   ]
  },
  {
   "cell_type": "code",
   "execution_count": 12,
   "id": "abcdf102",
   "metadata": {},
   "outputs": [],
   "source": [
    "df['NumTotalPurchases'] = df.filter(regex='Num[^Deals].+Purchases').sum(axis=1)"
   ]
  },
  {
   "cell_type": "code",
   "execution_count": 13,
   "id": "307441e1",
   "metadata": {},
   "outputs": [],
   "source": [
    "df['total_amount'] = df.filter(like='Mnt').sum(axis=1)"
   ]
  },
  {
   "cell_type": "code",
   "execution_count": 14,
   "id": "dad343dc",
   "metadata": {},
   "outputs": [
    {
     "data": {
      "text/plain": [
       "ID                    -0.017052\n",
       "Year_Birth            -0.113487\n",
       "Income                 0.667576\n",
       "Kidhome               -0.557899\n",
       "Teenhome              -0.138153\n",
       "Recency                0.020066\n",
       "MntWines               0.893136\n",
       "MntFruits              0.613249\n",
       "MntMeatProducts        0.845884\n",
       "MntFishProducts        0.642371\n",
       "MntSweetProducts       0.607062\n",
       "MntGoldProds           0.528708\n",
       "NumDealsPurchases     -0.065854\n",
       "NumWebPurchases        0.528973\n",
       "NumCatalogPurchases    0.780482\n",
       "NumStorePurchases      0.675181\n",
       "NumWebVisitsMonth     -0.499082\n",
       "AcceptedCmp3           0.053041\n",
       "AcceptedCmp4           0.248805\n",
       "AcceptedCmp5           0.470278\n",
       "AcceptedCmp1           0.380825\n",
       "AcceptedCmp2           0.136161\n",
       "Complain              -0.037428\n",
       "Z_CostContact               NaN\n",
       "Z_Revenue                   NaN\n",
       "Response               0.264127\n",
       "NumTotalPurchases      0.822948\n",
       "total_amount           1.000000\n",
       "Name: total_amount, dtype: float64"
      ]
     },
     "execution_count": 14,
     "metadata": {},
     "output_type": "execute_result"
    }
   ],
   "source": [
    "df.corr()[\"total_amount\"]"
   ]
  },
  {
   "cell_type": "code",
   "execution_count": 15,
   "id": "9ccdba0a",
   "metadata": {},
   "outputs": [],
   "source": [
    "SELECTED_FEATURES = [ 'Income', 'NumTotalPurchases', 'total_amount',\"NumWebVisitsMonth\"]"
   ]
  },
  {
   "cell_type": "code",
   "execution_count": 16,
   "id": "f575bf7c",
   "metadata": {},
   "outputs": [],
   "source": [
    "data = df[SELECTED_FEATURES]"
   ]
  },
  {
   "cell_type": "markdown",
   "id": "716863a6",
   "metadata": {},
   "source": [
    "## Standardization"
   ]
  },
  {
   "cell_type": "code",
   "execution_count": 17,
   "id": "b5df8b26",
   "metadata": {},
   "outputs": [],
   "source": [
    "from sklearn.preprocessing import StandardScaler\n",
    "\n",
    "scaler = StandardScaler()\n",
    "scaler.fit(data.values)\n",
    "tr_s = scaler.transform(data.values)"
   ]
  },
  {
   "cell_type": "code",
   "execution_count": 18,
   "id": "9af6b4ff",
   "metadata": {},
   "outputs": [],
   "source": [
    "data_cleaned_sc = pd.DataFrame(tr_s,columns  = SELECTED_FEATURES)"
   ]
  },
  {
   "cell_type": "markdown",
   "id": "956a7e4b",
   "metadata": {},
   "source": [
    "## K-MEANS"
   ]
  },
  {
   "cell_type": "code",
   "execution_count": 19,
   "id": "6ee952b7",
   "metadata": {},
   "outputs": [
    {
     "data": {
      "text/plain": [
       "Text(0, 0.5, 'Inertia')"
      ]
     },
     "execution_count": 19,
     "metadata": {},
     "output_type": "execute_result"
    },
    {
     "data": {
      "image/png": "[encoded data removed]",
      "text/plain": [
       "<Figure size 720x360 with 1 Axes>"
      ]
     },
     "metadata": {
      "needs_background": "light"
     },
     "output_type": "display_data"
    }
   ],
   "source": [
    "from sklearn.cluster import KMeans\n",
    "import matplotlib.pyplot as plt\n",
    "krange = range(2,10)\n",
    "\n",
    "inert = []\n",
    "\n",
    "for n in krange:\n",
    "    kmeans_model = KMeans(n, random_state=42, init='k-means++').fit(data_cleaned_sc)\n",
    "    inert.append(kmeans_model.inertia_)\n",
    "\n",
    "plt.figure(figsize=(10,5))    \n",
    "plt.title(\"The elbow rule visualisation\")\n",
    "plt.plot(krange, inert, '-o')\n",
    "plt.xlabel('Number of clusters (k)')\n",
    "plt.ylabel('Inertia')"
   ]
  },
  {
   "cell_type": "markdown",
   "id": "8772e07a",
   "metadata": {},
   "source": [
    "### To determine the optimal number of clusters, we have to select the value of k at the “elbow” ie the point after which the distortion/inertia start decreasing in a linear fashion. Thus for the given data, we conclude that the optimal number of clusters for this data is 4 or 5."
   ]
  },
  {
   "cell_type": "markdown",
   "id": "a6850117",
   "metadata": {},
   "source": [
    "## No of clusters : 4"
   ]
  },
  {
   "cell_type": "code",
   "execution_count": 20,
   "id": "5c295a97",
   "metadata": {},
   "outputs": [],
   "source": [
    "kmeans = KMeans(n_clusters=4, init='k-means++', random_state=42)\n",
    "kmeans.fit(data_cleaned_sc)\n",
    "\n",
    "pred = kmeans.predict(data_cleaned_sc)\n",
    "\n",
    "df_clustered = df.copy()\n",
    "df_clustered['Cluster'] = pred + 1"
   ]
  },
  {
   "cell_type": "code",
   "execution_count": 21,
   "id": "816c8297",
   "metadata": {},
   "outputs": [
    {
     "data": {
      "text/html": [
       "<div>\n",
       "<style scoped>\n",
       "    .dataframe tbody tr th:only-of-type {\n",
       "        vertical-align: middle;\n",
       "    }\n",
       "\n",
       "    .dataframe tbody tr th {\n",
       "        vertical-align: top;\n",
       "    }\n",
       "\n",
       "    .dataframe thead th {\n",
       "        text-align: right;\n",
       "    }\n",
       "</style>\n",
       "<table border=\"1\" class=\"dataframe\">\n",
       "  <thead>\n",
       "    <tr style=\"text-align: right;\">\n",
       "      <th></th>\n",
       "      <th>ID</th>\n",
       "      <th>Year_Birth</th>\n",
       "      <th>Education</th>\n",
       "      <th>Marital_Status</th>\n",
       "      <th>Income</th>\n",
       "      <th>Kidhome</th>\n",
       "      <th>Teenhome</th>\n",
       "      <th>Dt_Customer</th>\n",
       "      <th>Recency</th>\n",
       "      <th>MntWines</th>\n",
       "      <th>...</th>\n",
       "      <th>AcceptedCmp5</th>\n",
       "      <th>AcceptedCmp1</th>\n",
       "      <th>AcceptedCmp2</th>\n",
       "      <th>Complain</th>\n",
       "      <th>Z_CostContact</th>\n",
       "      <th>Z_Revenue</th>\n",
       "      <th>Response</th>\n",
       "      <th>NumTotalPurchases</th>\n",
       "      <th>total_amount</th>\n",
       "      <th>Cluster</th>\n",
       "    </tr>\n",
       "  </thead>\n",
       "  <tbody>\n",
       "    <tr>\n",
       "      <th>0</th>\n",
       "      <td>5524</td>\n",
       "      <td>1957</td>\n",
       "      <td>Bachelor</td>\n",
       "      <td>Single</td>\n",
       "      <td>58138.0</td>\n",
       "      <td>0</td>\n",
       "      <td>0</td>\n",
       "      <td>04/09/2012</td>\n",
       "      <td>58</td>\n",
       "      <td>635</td>\n",
       "      <td>...</td>\n",
       "      <td>0</td>\n",
       "      <td>0</td>\n",
       "      <td>0</td>\n",
       "      <td>0</td>\n",
       "      <td>3</td>\n",
       "      <td>11</td>\n",
       "      <td>1</td>\n",
       "      <td>22</td>\n",
       "      <td>1617</td>\n",
       "      <td>2</td>\n",
       "    </tr>\n",
       "    <tr>\n",
       "      <th>1</th>\n",
       "      <td>2174</td>\n",
       "      <td>1954</td>\n",
       "      <td>Bachelor</td>\n",
       "      <td>Single</td>\n",
       "      <td>46344.0</td>\n",
       "      <td>1</td>\n",
       "      <td>1</td>\n",
       "      <td>08/03/2014</td>\n",
       "      <td>38</td>\n",
       "      <td>11</td>\n",
       "      <td>...</td>\n",
       "      <td>0</td>\n",
       "      <td>0</td>\n",
       "      <td>0</td>\n",
       "      <td>0</td>\n",
       "      <td>3</td>\n",
       "      <td>11</td>\n",
       "      <td>0</td>\n",
       "      <td>4</td>\n",
       "      <td>27</td>\n",
       "      <td>1</td>\n",
       "    </tr>\n",
       "    <tr>\n",
       "      <th>2</th>\n",
       "      <td>4141</td>\n",
       "      <td>1965</td>\n",
       "      <td>Bachelor</td>\n",
       "      <td>Together</td>\n",
       "      <td>71613.0</td>\n",
       "      <td>0</td>\n",
       "      <td>0</td>\n",
       "      <td>21/08/2013</td>\n",
       "      <td>26</td>\n",
       "      <td>426</td>\n",
       "      <td>...</td>\n",
       "      <td>0</td>\n",
       "      <td>0</td>\n",
       "      <td>0</td>\n",
       "      <td>0</td>\n",
       "      <td>3</td>\n",
       "      <td>11</td>\n",
       "      <td>0</td>\n",
       "      <td>20</td>\n",
       "      <td>776</td>\n",
       "      <td>2</td>\n",
       "    </tr>\n",
       "    <tr>\n",
       "      <th>3</th>\n",
       "      <td>6182</td>\n",
       "      <td>1984</td>\n",
       "      <td>Bachelor</td>\n",
       "      <td>Together</td>\n",
       "      <td>26646.0</td>\n",
       "      <td>1</td>\n",
       "      <td>0</td>\n",
       "      <td>10/02/2014</td>\n",
       "      <td>26</td>\n",
       "      <td>11</td>\n",
       "      <td>...</td>\n",
       "      <td>0</td>\n",
       "      <td>0</td>\n",
       "      <td>0</td>\n",
       "      <td>0</td>\n",
       "      <td>3</td>\n",
       "      <td>11</td>\n",
       "      <td>0</td>\n",
       "      <td>6</td>\n",
       "      <td>53</td>\n",
       "      <td>1</td>\n",
       "    </tr>\n",
       "    <tr>\n",
       "      <th>4</th>\n",
       "      <td>5324</td>\n",
       "      <td>1981</td>\n",
       "      <td>PhD</td>\n",
       "      <td>Married</td>\n",
       "      <td>58293.0</td>\n",
       "      <td>1</td>\n",
       "      <td>0</td>\n",
       "      <td>19/01/2014</td>\n",
       "      <td>94</td>\n",
       "      <td>173</td>\n",
       "      <td>...</td>\n",
       "      <td>0</td>\n",
       "      <td>0</td>\n",
       "      <td>0</td>\n",
       "      <td>0</td>\n",
       "      <td>3</td>\n",
       "      <td>11</td>\n",
       "      <td>0</td>\n",
       "      <td>14</td>\n",
       "      <td>422</td>\n",
       "      <td>2</td>\n",
       "    </tr>\n",
       "    <tr>\n",
       "      <th>...</th>\n",
       "      <td>...</td>\n",
       "      <td>...</td>\n",
       "      <td>...</td>\n",
       "      <td>...</td>\n",
       "      <td>...</td>\n",
       "      <td>...</td>\n",
       "      <td>...</td>\n",
       "      <td>...</td>\n",
       "      <td>...</td>\n",
       "      <td>...</td>\n",
       "      <td>...</td>\n",
       "      <td>...</td>\n",
       "      <td>...</td>\n",
       "      <td>...</td>\n",
       "      <td>...</td>\n",
       "      <td>...</td>\n",
       "      <td>...</td>\n",
       "      <td>...</td>\n",
       "      <td>...</td>\n",
       "      <td>...</td>\n",
       "      <td>...</td>\n",
       "    </tr>\n",
       "    <tr>\n",
       "      <th>2211</th>\n",
       "      <td>10870</td>\n",
       "      <td>1967</td>\n",
       "      <td>Bachelor</td>\n",
       "      <td>Married</td>\n",
       "      <td>61223.0</td>\n",
       "      <td>0</td>\n",
       "      <td>1</td>\n",
       "      <td>13/06/2013</td>\n",
       "      <td>46</td>\n",
       "      <td>709</td>\n",
       "      <td>...</td>\n",
       "      <td>0</td>\n",
       "      <td>0</td>\n",
       "      <td>0</td>\n",
       "      <td>0</td>\n",
       "      <td>3</td>\n",
       "      <td>11</td>\n",
       "      <td>0</td>\n",
       "      <td>16</td>\n",
       "      <td>1341</td>\n",
       "      <td>2</td>\n",
       "    </tr>\n",
       "    <tr>\n",
       "      <th>2212</th>\n",
       "      <td>4001</td>\n",
       "      <td>1946</td>\n",
       "      <td>PhD</td>\n",
       "      <td>Together</td>\n",
       "      <td>64014.0</td>\n",
       "      <td>2</td>\n",
       "      <td>1</td>\n",
       "      <td>10/06/2014</td>\n",
       "      <td>56</td>\n",
       "      <td>406</td>\n",
       "      <td>...</td>\n",
       "      <td>0</td>\n",
       "      <td>1</td>\n",
       "      <td>0</td>\n",
       "      <td>0</td>\n",
       "      <td>3</td>\n",
       "      <td>11</td>\n",
       "      <td>0</td>\n",
       "      <td>15</td>\n",
       "      <td>444</td>\n",
       "      <td>2</td>\n",
       "    </tr>\n",
       "    <tr>\n",
       "      <th>2213</th>\n",
       "      <td>7270</td>\n",
       "      <td>1981</td>\n",
       "      <td>Bachelor</td>\n",
       "      <td>Divorced</td>\n",
       "      <td>56981.0</td>\n",
       "      <td>0</td>\n",
       "      <td>0</td>\n",
       "      <td>25/01/2014</td>\n",
       "      <td>91</td>\n",
       "      <td>908</td>\n",
       "      <td>...</td>\n",
       "      <td>0</td>\n",
       "      <td>0</td>\n",
       "      <td>0</td>\n",
       "      <td>0</td>\n",
       "      <td>3</td>\n",
       "      <td>11</td>\n",
       "      <td>0</td>\n",
       "      <td>18</td>\n",
       "      <td>1241</td>\n",
       "      <td>2</td>\n",
       "    </tr>\n",
       "    <tr>\n",
       "      <th>2214</th>\n",
       "      <td>8235</td>\n",
       "      <td>1956</td>\n",
       "      <td>Master</td>\n",
       "      <td>Together</td>\n",
       "      <td>69245.0</td>\n",
       "      <td>0</td>\n",
       "      <td>1</td>\n",
       "      <td>24/01/2014</td>\n",
       "      <td>8</td>\n",
       "      <td>428</td>\n",
       "      <td>...</td>\n",
       "      <td>0</td>\n",
       "      <td>0</td>\n",
       "      <td>0</td>\n",
       "      <td>0</td>\n",
       "      <td>3</td>\n",
       "      <td>11</td>\n",
       "      <td>0</td>\n",
       "      <td>21</td>\n",
       "      <td>843</td>\n",
       "      <td>4</td>\n",
       "    </tr>\n",
       "    <tr>\n",
       "      <th>2215</th>\n",
       "      <td>9405</td>\n",
       "      <td>1954</td>\n",
       "      <td>PhD</td>\n",
       "      <td>Married</td>\n",
       "      <td>52869.0</td>\n",
       "      <td>1</td>\n",
       "      <td>1</td>\n",
       "      <td>15/10/2012</td>\n",
       "      <td>40</td>\n",
       "      <td>84</td>\n",
       "      <td>...</td>\n",
       "      <td>0</td>\n",
       "      <td>0</td>\n",
       "      <td>0</td>\n",
       "      <td>0</td>\n",
       "      <td>3</td>\n",
       "      <td>11</td>\n",
       "      <td>1</td>\n",
       "      <td>8</td>\n",
       "      <td>172</td>\n",
       "      <td>1</td>\n",
       "    </tr>\n",
       "  </tbody>\n",
       "</table>\n",
       "<p>2216 rows × 32 columns</p>\n",
       "</div>"
      ],
      "text/plain": [
       "         ID  Year_Birth Education Marital_Status   Income  Kidhome  Teenhome  \\\n",
       "0      5524        1957  Bachelor         Single  58138.0        0         0   \n",
       "1      2174        1954  Bachelor         Single  46344.0        1         1   \n",
       "2      4141        1965  Bachelor       Together  71613.0        0         0   \n",
       "3      6182        1984  Bachelor       Together  26646.0        1         0   \n",
       "4      5324        1981       PhD        Married  58293.0        1         0   \n",
       "...     ...         ...       ...            ...      ...      ...       ...   \n",
       "2211  10870        1967  Bachelor        Married  61223.0        0         1   \n",
       "2212   4001        1946       PhD       Together  64014.0        2         1   \n",
       "2213   7270        1981  Bachelor       Divorced  56981.0        0         0   \n",
       "2214   8235        1956    Master       Together  69245.0        0         1   \n",
       "2215   9405        1954       PhD        Married  52869.0        1         1   \n",
       "\n",
       "     Dt_Customer  Recency  MntWines  ...  AcceptedCmp5  AcceptedCmp1  \\\n",
       "0     04/09/2012       58       635  ...             0             0   \n",
       "1     08/03/2014       38        11  ...             0             0   \n",
       "2     21/08/2013       26       426  ...             0             0   \n",
       "3     10/02/2014       26        11  ...             0             0   \n",
       "4     19/01/2014       94       173  ...             0             0   \n",
       "...          ...      ...       ...  ...           ...           ...   \n",
       "2211  13/06/2013       46       709  ...             0             0   \n",
       "2212  10/06/2014       56       406  ...             0             1   \n",
       "2213  25/01/2014       91       908  ...             0             0   \n",
       "2214  24/01/2014        8       428  ...             0             0   \n",
       "2215  15/10/2012       40        84  ...             0             0   \n",
       "\n",
       "      AcceptedCmp2  Complain  Z_CostContact  Z_Revenue  Response  \\\n",
       "0                0         0              3         11         1   \n",
       "1                0         0              3         11         0   \n",
       "2                0         0              3         11         0   \n",
       "3                0         0              3         11         0   \n",
       "4                0         0              3         11         0   \n",
       "...            ...       ...            ...        ...       ...   \n",
       "2211             0         0              3         11         0   \n",
       "2212             0         0              3         11         0   \n",
       "2213             0         0              3         11         0   \n",
       "2214             0         0              3         11         0   \n",
       "2215             0         0              3         11         1   \n",
       "\n",
       "      NumTotalPurchases  total_amount  Cluster  \n",
       "0                    22          1617        2  \n",
       "1                     4            27        1  \n",
       "2                    20           776        2  \n",
       "3                     6            53        1  \n",
       "4                    14           422        2  \n",
       "...                 ...           ...      ...  \n",
       "2211                 16          1341        2  \n",
       "2212                 15           444        2  \n",
       "2213                 18          1241        2  \n",
       "2214                 21           843        4  \n",
       "2215                  8           172        1  \n",
       "\n",
       "[2216 rows x 32 columns]"
      ]
     },
     "execution_count": 21,
     "metadata": {},
     "output_type": "execute_result"
    }
   ],
   "source": [
    "df_clustered"
   ]
  },
  {
   "cell_type": "code",
   "execution_count": 22,
   "id": "a05c80f7",
   "metadata": {
    "scrolled": true
   },
   "outputs": [
    {
     "data": {
      "text/plain": [
       "1    1101\n",
       "2     565\n",
       "4     549\n",
       "3       1\n",
       "Name: Cluster, dtype: int64"
      ]
     },
     "execution_count": 22,
     "metadata": {},
     "output_type": "execute_result"
    }
   ],
   "source": [
    "df_clustered[\"Cluster\"].value_counts()"
   ]
  },
  {
   "cell_type": "markdown",
   "id": "7a37587c",
   "metadata": {},
   "source": [
    "## No of clusters : 5"
   ]
  },
  {
   "cell_type": "code",
   "execution_count": 23,
   "id": "1ab5964a",
   "metadata": {},
   "outputs": [],
   "source": [
    "kmeans = KMeans(n_clusters=5, init='k-means++', random_state=42)\n",
    "kmeans.fit(data_cleaned_sc)\n",
    "\n",
    "pred = kmeans.predict(data_cleaned_sc)\n",
    "\n",
    "df_clustered = df.copy()\n",
    "df_clustered['Cluster'] = pred + 1"
   ]
  },
  {
   "cell_type": "code",
   "execution_count": 24,
   "id": "33e826d1",
   "metadata": {},
   "outputs": [
    {
     "data": {
      "text/plain": [
       "3    795\n",
       "4    539\n",
       "1    482\n",
       "2    399\n",
       "5      1\n",
       "Name: Cluster, dtype: int64"
      ]
     },
     "execution_count": 24,
     "metadata": {},
     "output_type": "execute_result"
    }
   ],
   "source": [
    "df_clustered[\"Cluster\"].value_counts()"
   ]
  },
  {
   "cell_type": "markdown",
   "id": "37c54c46",
   "metadata": {},
   "source": [
    "**Shilhouette Coefficient Visualizer**"
   ]
  },
  {
   "cell_type": "code",
   "execution_count": 25,
   "id": "944282f4",
   "metadata": {},
   "outputs": [],
   "source": [
    "from yellowbrick.cluster import SilhouetteVisualizer"
   ]
  },
  {
   "cell_type": "code",
   "execution_count": 26,
   "id": "cd6b4203",
   "metadata": {},
   "outputs": [
    {
     "data": {
      "image/png": "[encoded data removed]",
      "text/plain": [
       "<Figure size 720x1152 with 4 Axes>"
      ]
     },
     "metadata": {},
     "output_type": "display_data"
    }
   ],
   "source": [
    "k = range(2, 6)\n",
    "\n",
    "fig, axes = plt.subplots(4, 1, figsize=(10, 16))\n",
    "\n",
    "for i in k:   \n",
    "    kmodel = KMeans(i, init='k-means++', n_init=100, random_state=42)\n",
    "    v = SilhouetteVisualizer(kmodel, ax=axes[i-2])\n",
    "    v.fit(data_cleaned_sc)\n",
    "    v.finalize()\n",
    "    axes[i-2].set_xlim(-0.1, 1)\n",
    "    \n",
    "plt.tight_layout()\n"
   ]
  },
  {
   "cell_type": "markdown",
   "id": "2a2a7a8e",
   "metadata": {},
   "source": [
    "#### according to the elbow rule plot, 4 or 5 clusters are best\n",
    "\n",
    "#### by silhouette coefficient visualisation plots, 4 clusters provides relatively high silhouette scores for each cluster."
   ]
  },
  {
   "cell_type": "markdown",
   "id": "33f68eb5",
   "metadata": {},
   "source": [
    "## 4 CLUSTERS"
   ]
  },
  {
   "cell_type": "code",
   "execution_count": 27,
   "id": "2d340f5a",
   "metadata": {},
   "outputs": [],
   "source": [
    "kmeans = KMeans(n_clusters=4, init='k-means++', random_state=42)\n",
    "kmeans.fit(data_cleaned_sc)\n",
    "\n",
    "pred = kmeans.predict(data_cleaned_sc)\n",
    "\n",
    "df_clustered = df.copy()\n",
    "df_clustered['Cluster'] = pred + 1"
   ]
  },
  {
   "cell_type": "code",
   "execution_count": 28,
   "id": "f5d54b84",
   "metadata": {},
   "outputs": [
    {
     "data": {
      "text/plain": [
       "1    1101\n",
       "2     565\n",
       "4     549\n",
       "3       1\n",
       "Name: Cluster, dtype: int64"
      ]
     },
     "execution_count": 28,
     "metadata": {},
     "output_type": "execute_result"
    }
   ],
   "source": [
    "df_clustered[\"Cluster\"].value_counts()"
   ]
  },
  {
   "cell_type": "code",
   "execution_count": 29,
   "id": "e0dfcbf9",
   "metadata": {},
   "outputs": [],
   "source": [
    "df1 = df_clustered[df_clustered[\"Cluster\"]!=3]"
   ]
  },
  {
   "cell_type": "code",
   "execution_count": 30,
   "id": "87e518a3",
   "metadata": {},
   "outputs": [
    {
     "data": {
      "text/plain": [
       "1    1101\n",
       "2     565\n",
       "4     549\n",
       "Name: Cluster, dtype: int64"
      ]
     },
     "execution_count": 30,
     "metadata": {},
     "output_type": "execute_result"
    }
   ],
   "source": [
    "df1[\"Cluster\"].value_counts()"
   ]
  },
  {
   "cell_type": "code",
   "execution_count": 31,
   "id": "57bff1d3",
   "metadata": {},
   "outputs": [
    {
     "name": "stderr",
     "output_type": "stream",
     "text": [
      "C:\\Users\\44782\\AppData\\Local\\Temp/ipykernel_5084/2457330642.py:1: SettingWithCopyWarning: \n",
      "A value is trying to be set on a copy of a slice from a DataFrame.\n",
      "Try using .loc[row_indexer,col_indexer] = value instead\n",
      "\n",
      "See the caveats in the documentation: https://pandas.pydata.org/pandas-docs/stable/user_guide/indexing.html#returning-a-view-versus-a-copy\n",
      "  df1[\"Cluster\"] = df1[\"Cluster\"].replace({4:3})\n"
     ]
    }
   ],
   "source": [
    "df1[\"Cluster\"] = df1[\"Cluster\"].replace({4:3})"
   ]
  },
  {
   "cell_type": "code",
   "execution_count": 32,
   "id": "8d5a5486",
   "metadata": {},
   "outputs": [
    {
     "data": {
      "image/png": "[encoded data removed]",
      "text/plain": [
       "<Figure size 720x360 with 1 Axes>"
      ]
     },
     "metadata": {},
     "output_type": "display_data"
    }
   ],
   "source": [
    "import seaborn as sns\n",
    "PALETTE = sns.color_palette(\"Set2\")\n",
    "\n",
    "sns.set_context(\"paper\", rc={\"font.size\":12, \n",
    "                             \"figure.titlesize\":18, \n",
    "                             \"axes.titlesize\":15, \n",
    "                             \n",
    "                             \"legend.fontsize\": 9,\n",
    "                             \"legend.title_fontsize\": 11,\n",
    "                            \"axes.labelsize\":13, \n",
    "                             \"xtick.labelsize\": 12,\n",
    "                             \"ytick.labelsize\": 12 }) \n",
    "\n",
    "plt.figure(figsize=(10,5))\n",
    "plt.title(f'Customers income by cluster')\n",
    "ax = sns.boxplot(data=df1, x='Cluster', y='Income', palette=PALETTE, showfliers=False)\n",
    "plt.show()\n"
   ]
  },
  {
   "cell_type": "markdown",
   "id": "05691252",
   "metadata": {},
   "source": [
    "### 2 nd cluster are medium people \n",
    "### 3 rd cluster are rich people \n",
    "### 1 st cluster are poor people"
   ]
  },
  {
   "cell_type": "code",
   "execution_count": 33,
   "id": "476b8e13",
   "metadata": {},
   "outputs": [
    {
     "data": {
      "text/html": [
       "<div>\n",
       "<style scoped>\n",
       "    .dataframe tbody tr th:only-of-type {\n",
       "        vertical-align: middle;\n",
       "    }\n",
       "\n",
       "    .dataframe tbody tr th {\n",
       "        vertical-align: top;\n",
       "    }\n",
       "\n",
       "    .dataframe thead th {\n",
       "        text-align: right;\n",
       "    }\n",
       "</style>\n",
       "<table border=\"1\" class=\"dataframe\">\n",
       "  <thead>\n",
       "    <tr style=\"text-align: right;\">\n",
       "      <th></th>\n",
       "      <th>ID</th>\n",
       "      <th>Year_Birth</th>\n",
       "      <th>Education</th>\n",
       "      <th>Marital_Status</th>\n",
       "      <th>Income</th>\n",
       "      <th>Kidhome</th>\n",
       "      <th>Teenhome</th>\n",
       "      <th>Dt_Customer</th>\n",
       "      <th>Recency</th>\n",
       "      <th>MntWines</th>\n",
       "      <th>...</th>\n",
       "      <th>AcceptedCmp5</th>\n",
       "      <th>AcceptedCmp1</th>\n",
       "      <th>AcceptedCmp2</th>\n",
       "      <th>Complain</th>\n",
       "      <th>Z_CostContact</th>\n",
       "      <th>Z_Revenue</th>\n",
       "      <th>Response</th>\n",
       "      <th>NumTotalPurchases</th>\n",
       "      <th>total_amount</th>\n",
       "      <th>Cluster</th>\n",
       "    </tr>\n",
       "  </thead>\n",
       "  <tbody>\n",
       "    <tr>\n",
       "      <th>0</th>\n",
       "      <td>5524</td>\n",
       "      <td>1957</td>\n",
       "      <td>Bachelor</td>\n",
       "      <td>Single</td>\n",
       "      <td>58138.0</td>\n",
       "      <td>0</td>\n",
       "      <td>0</td>\n",
       "      <td>04/09/2012</td>\n",
       "      <td>58</td>\n",
       "      <td>635</td>\n",
       "      <td>...</td>\n",
       "      <td>0</td>\n",
       "      <td>0</td>\n",
       "      <td>0</td>\n",
       "      <td>0</td>\n",
       "      <td>3</td>\n",
       "      <td>11</td>\n",
       "      <td>1</td>\n",
       "      <td>22</td>\n",
       "      <td>1617</td>\n",
       "      <td>2</td>\n",
       "    </tr>\n",
       "    <tr>\n",
       "      <th>1</th>\n",
       "      <td>2174</td>\n",
       "      <td>1954</td>\n",
       "      <td>Bachelor</td>\n",
       "      <td>Single</td>\n",
       "      <td>46344.0</td>\n",
       "      <td>1</td>\n",
       "      <td>1</td>\n",
       "      <td>08/03/2014</td>\n",
       "      <td>38</td>\n",
       "      <td>11</td>\n",
       "      <td>...</td>\n",
       "      <td>0</td>\n",
       "      <td>0</td>\n",
       "      <td>0</td>\n",
       "      <td>0</td>\n",
       "      <td>3</td>\n",
       "      <td>11</td>\n",
       "      <td>0</td>\n",
       "      <td>4</td>\n",
       "      <td>27</td>\n",
       "      <td>1</td>\n",
       "    </tr>\n",
       "    <tr>\n",
       "      <th>2</th>\n",
       "      <td>4141</td>\n",
       "      <td>1965</td>\n",
       "      <td>Bachelor</td>\n",
       "      <td>Together</td>\n",
       "      <td>71613.0</td>\n",
       "      <td>0</td>\n",
       "      <td>0</td>\n",
       "      <td>21/08/2013</td>\n",
       "      <td>26</td>\n",
       "      <td>426</td>\n",
       "      <td>...</td>\n",
       "      <td>0</td>\n",
       "      <td>0</td>\n",
       "      <td>0</td>\n",
       "      <td>0</td>\n",
       "      <td>3</td>\n",
       "      <td>11</td>\n",
       "      <td>0</td>\n",
       "      <td>20</td>\n",
       "      <td>776</td>\n",
       "      <td>2</td>\n",
       "    </tr>\n",
       "    <tr>\n",
       "      <th>3</th>\n",
       "      <td>6182</td>\n",
       "      <td>1984</td>\n",
       "      <td>Bachelor</td>\n",
       "      <td>Together</td>\n",
       "      <td>26646.0</td>\n",
       "      <td>1</td>\n",
       "      <td>0</td>\n",
       "      <td>10/02/2014</td>\n",
       "      <td>26</td>\n",
       "      <td>11</td>\n",
       "      <td>...</td>\n",
       "      <td>0</td>\n",
       "      <td>0</td>\n",
       "      <td>0</td>\n",
       "      <td>0</td>\n",
       "      <td>3</td>\n",
       "      <td>11</td>\n",
       "      <td>0</td>\n",
       "      <td>6</td>\n",
       "      <td>53</td>\n",
       "      <td>1</td>\n",
       "    </tr>\n",
       "    <tr>\n",
       "      <th>4</th>\n",
       "      <td>5324</td>\n",
       "      <td>1981</td>\n",
       "      <td>PhD</td>\n",
       "      <td>Married</td>\n",
       "      <td>58293.0</td>\n",
       "      <td>1</td>\n",
       "      <td>0</td>\n",
       "      <td>19/01/2014</td>\n",
       "      <td>94</td>\n",
       "      <td>173</td>\n",
       "      <td>...</td>\n",
       "      <td>0</td>\n",
       "      <td>0</td>\n",
       "      <td>0</td>\n",
       "      <td>0</td>\n",
       "      <td>3</td>\n",
       "      <td>11</td>\n",
       "      <td>0</td>\n",
       "      <td>14</td>\n",
       "      <td>422</td>\n",
       "      <td>2</td>\n",
       "    </tr>\n",
       "    <tr>\n",
       "      <th>...</th>\n",
       "      <td>...</td>\n",
       "      <td>...</td>\n",
       "      <td>...</td>\n",
       "      <td>...</td>\n",
       "      <td>...</td>\n",
       "      <td>...</td>\n",
       "      <td>...</td>\n",
       "      <td>...</td>\n",
       "      <td>...</td>\n",
       "      <td>...</td>\n",
       "      <td>...</td>\n",
       "      <td>...</td>\n",
       "      <td>...</td>\n",
       "      <td>...</td>\n",
       "      <td>...</td>\n",
       "      <td>...</td>\n",
       "      <td>...</td>\n",
       "      <td>...</td>\n",
       "      <td>...</td>\n",
       "      <td>...</td>\n",
       "      <td>...</td>\n",
       "    </tr>\n",
       "    <tr>\n",
       "      <th>2211</th>\n",
       "      <td>10870</td>\n",
       "      <td>1967</td>\n",
       "      <td>Bachelor</td>\n",
       "      <td>Married</td>\n",
       "      <td>61223.0</td>\n",
       "      <td>0</td>\n",
       "      <td>1</td>\n",
       "      <td>13/06/2013</td>\n",
       "      <td>46</td>\n",
       "      <td>709</td>\n",
       "      <td>...</td>\n",
       "      <td>0</td>\n",
       "      <td>0</td>\n",
       "      <td>0</td>\n",
       "      <td>0</td>\n",
       "      <td>3</td>\n",
       "      <td>11</td>\n",
       "      <td>0</td>\n",
       "      <td>16</td>\n",
       "      <td>1341</td>\n",
       "      <td>2</td>\n",
       "    </tr>\n",
       "    <tr>\n",
       "      <th>2212</th>\n",
       "      <td>4001</td>\n",
       "      <td>1946</td>\n",
       "      <td>PhD</td>\n",
       "      <td>Together</td>\n",
       "      <td>64014.0</td>\n",
       "      <td>2</td>\n",
       "      <td>1</td>\n",
       "      <td>10/06/2014</td>\n",
       "      <td>56</td>\n",
       "      <td>406</td>\n",
       "      <td>...</td>\n",
       "      <td>0</td>\n",
       "      <td>1</td>\n",
       "      <td>0</td>\n",
       "      <td>0</td>\n",
       "      <td>3</td>\n",
       "      <td>11</td>\n",
       "      <td>0</td>\n",
       "      <td>15</td>\n",
       "      <td>444</td>\n",
       "      <td>2</td>\n",
       "    </tr>\n",
       "    <tr>\n",
       "      <th>2213</th>\n",
       "      <td>7270</td>\n",
       "      <td>1981</td>\n",
       "      <td>Bachelor</td>\n",
       "      <td>Divorced</td>\n",
       "      <td>56981.0</td>\n",
       "      <td>0</td>\n",
       "      <td>0</td>\n",
       "      <td>25/01/2014</td>\n",
       "      <td>91</td>\n",
       "      <td>908</td>\n",
       "      <td>...</td>\n",
       "      <td>0</td>\n",
       "      <td>0</td>\n",
       "      <td>0</td>\n",
       "      <td>0</td>\n",
       "      <td>3</td>\n",
       "      <td>11</td>\n",
       "      <td>0</td>\n",
       "      <td>18</td>\n",
       "      <td>1241</td>\n",
       "      <td>2</td>\n",
       "    </tr>\n",
       "    <tr>\n",
       "      <th>2214</th>\n",
       "      <td>8235</td>\n",
       "      <td>1956</td>\n",
       "      <td>Master</td>\n",
       "      <td>Together</td>\n",
       "      <td>69245.0</td>\n",
       "      <td>0</td>\n",
       "      <td>1</td>\n",
       "      <td>24/01/2014</td>\n",
       "      <td>8</td>\n",
       "      <td>428</td>\n",
       "      <td>...</td>\n",
       "      <td>0</td>\n",
       "      <td>0</td>\n",
       "      <td>0</td>\n",
       "      <td>0</td>\n",
       "      <td>3</td>\n",
       "      <td>11</td>\n",
       "      <td>0</td>\n",
       "      <td>21</td>\n",
       "      <td>843</td>\n",
       "      <td>3</td>\n",
       "    </tr>\n",
       "    <tr>\n",
       "      <th>2215</th>\n",
       "      <td>9405</td>\n",
       "      <td>1954</td>\n",
       "      <td>PhD</td>\n",
       "      <td>Married</td>\n",
       "      <td>52869.0</td>\n",
       "      <td>1</td>\n",
       "      <td>1</td>\n",
       "      <td>15/10/2012</td>\n",
       "      <td>40</td>\n",
       "      <td>84</td>\n",
       "      <td>...</td>\n",
       "      <td>0</td>\n",
       "      <td>0</td>\n",
       "      <td>0</td>\n",
       "      <td>0</td>\n",
       "      <td>3</td>\n",
       "      <td>11</td>\n",
       "      <td>1</td>\n",
       "      <td>8</td>\n",
       "      <td>172</td>\n",
       "      <td>1</td>\n",
       "    </tr>\n",
       "  </tbody>\n",
       "</table>\n",
       "<p>2215 rows × 32 columns</p>\n",
       "</div>"
      ],
      "text/plain": [
       "         ID  Year_Birth Education Marital_Status   Income  Kidhome  Teenhome  \\\n",
       "0      5524        1957  Bachelor         Single  58138.0        0         0   \n",
       "1      2174        1954  Bachelor         Single  46344.0        1         1   \n",
       "2      4141        1965  Bachelor       Together  71613.0        0         0   \n",
       "3      6182        1984  Bachelor       Together  26646.0        1         0   \n",
       "4      5324        1981       PhD        Married  58293.0        1         0   \n",
       "...     ...         ...       ...            ...      ...      ...       ...   \n",
       "2211  10870        1967  Bachelor        Married  61223.0        0         1   \n",
       "2212   4001        1946       PhD       Together  64014.0        2         1   \n",
       "2213   7270        1981  Bachelor       Divorced  56981.0        0         0   \n",
       "2214   8235        1956    Master       Together  69245.0        0         1   \n",
       "2215   9405        1954       PhD        Married  52869.0        1         1   \n",
       "\n",
       "     Dt_Customer  Recency  MntWines  ...  AcceptedCmp5  AcceptedCmp1  \\\n",
       "0     04/09/2012       58       635  ...             0             0   \n",
       "1     08/03/2014       38        11  ...             0             0   \n",
       "2     21/08/2013       26       426  ...             0             0   \n",
       "3     10/02/2014       26        11  ...             0             0   \n",
       "4     19/01/2014       94       173  ...             0             0   \n",
       "...          ...      ...       ...  ...           ...           ...   \n",
       "2211  13/06/2013       46       709  ...             0             0   \n",
       "2212  10/06/2014       56       406  ...             0             1   \n",
       "2213  25/01/2014       91       908  ...             0             0   \n",
       "2214  24/01/2014        8       428  ...             0             0   \n",
       "2215  15/10/2012       40        84  ...             0             0   \n",
       "\n",
       "      AcceptedCmp2  Complain  Z_CostContact  Z_Revenue  Response  \\\n",
       "0                0         0              3         11         1   \n",
       "1                0         0              3         11         0   \n",
       "2                0         0              3         11         0   \n",
       "3                0         0              3         11         0   \n",
       "4                0         0              3         11         0   \n",
       "...            ...       ...            ...        ...       ...   \n",
       "2211             0         0              3         11         0   \n",
       "2212             0         0              3         11         0   \n",
       "2213             0         0              3         11         0   \n",
       "2214             0         0              3         11         0   \n",
       "2215             0         0              3         11         1   \n",
       "\n",
       "      NumTotalPurchases  total_amount  Cluster  \n",
       "0                    22          1617        2  \n",
       "1                     4            27        1  \n",
       "2                    20           776        2  \n",
       "3                     6            53        1  \n",
       "4                    14           422        2  \n",
       "...                 ...           ...      ...  \n",
       "2211                 16          1341        2  \n",
       "2212                 15           444        2  \n",
       "2213                 18          1241        2  \n",
       "2214                 21           843        3  \n",
       "2215                  8           172        1  \n",
       "\n",
       "[2215 rows x 32 columns]"
      ]
     },
     "execution_count": 33,
     "metadata": {},
     "output_type": "execute_result"
    }
   ],
   "source": [
    "df1"
   ]
  },
  {
   "cell_type": "code",
   "execution_count": 34,
   "id": "fab15622",
   "metadata": {},
   "outputs": [],
   "source": [
    "NumTotalPurchases_cluster = (df1.groupby(by='Cluster')['NumTotalPurchases'].sum().divide(df1['Cluster'].value_counts()))"
   ]
  },
  {
   "cell_type": "code",
   "execution_count": 35,
   "id": "715ba4d8",
   "metadata": {},
   "outputs": [
    {
     "data": {
      "image/png": "[encoded data removed]",
      "text/plain": [
       "<Figure size 720x360 with 1 Axes>"
      ]
     },
     "metadata": {},
     "output_type": "display_data"
    }
   ],
   "source": [
    "sizes = dict(NumTotalPurchases_cluster)\n",
    "plt.figure(figsize=(10, 5))\n",
    "plt.title(\"Average number of purchases by each cluster\")\n",
    "plt.pie(sizes.values(), labels=df1[\"Cluster\"].value_counts().index, autopct=\"%.1f%%\", pctdistance=0.84, shadow=True, colors=PALETTE)\n",
    "plt.show()"
   ]
  },
  {
   "cell_type": "markdown",
   "id": "b33deabc",
   "metadata": {},
   "source": [
    "### 1 st cluster are purchasing less\n",
    "### 2nd and 3rd cluster are purchasing more"
   ]
  },
  {
   "cell_type": "code",
   "execution_count": 36,
   "id": "672159ff",
   "metadata": {},
   "outputs": [],
   "source": [
    "amount_spent_by_cluster = (df1.groupby(by='Cluster')['total_amount'].sum().divide(df1['Cluster'].value_counts()))"
   ]
  },
  {
   "cell_type": "code",
   "execution_count": 37,
   "id": "f6700a61",
   "metadata": {},
   "outputs": [
    {
     "data": {
      "text/plain": [
       "Cluster\n",
       "1     115.524069\n",
       "2     842.235398\n",
       "3    1351.843352\n",
       "dtype: float64"
      ]
     },
     "execution_count": 37,
     "metadata": {},
     "output_type": "execute_result"
    }
   ],
   "source": [
    "amount_spent_by_cluster"
   ]
  },
  {
   "cell_type": "code",
   "execution_count": 38,
   "id": "6c3d34ce",
   "metadata": {},
   "outputs": [
    {
     "data": {
      "image/png": "[encoded data removed]",
      "text/plain": [
       "<Figure size 720x432 with 1 Axes>"
      ]
     },
     "metadata": {},
     "output_type": "display_data"
    }
   ],
   "source": [
    "sizes = dict(amount_spent_by_cluster)\n",
    "plt.figure(figsize=(10, 6))\n",
    "plt.title(\"Average money Spent by each cluster\")\n",
    "plt.pie(sizes.values(), labels=df1[\"Cluster\"].value_counts().index, autopct=\"%.1f%%\", pctdistance=0.84, shadow=True, colors=PALETTE)\n",
    "plt.show()"
   ]
  },
  {
   "cell_type": "markdown",
   "id": "18d437ee",
   "metadata": {},
   "source": [
    "#### poor Income customers spent less money in the store (cluster 1)\n",
    "#### very high Income customers spent more money in the store (cluster 3)"
   ]
  },
  {
   "cell_type": "markdown",
   "id": "e0483f11",
   "metadata": {},
   "source": [
    "## 1st cluster Customer ids"
   ]
  },
  {
   "cell_type": "code",
   "execution_count": 39,
   "id": "c0e95d02",
   "metadata": {},
   "outputs": [
    {
     "data": {
      "text/plain": [
       "array([2174, 6182, 6177, ..., 8080, 8372, 9405], dtype=int64)"
      ]
     },
     "execution_count": 39,
     "metadata": {},
     "output_type": "execute_result"
    }
   ],
   "source": [
    "df1[df1[\"Cluster\"]==1].ID.values"
   ]
  },
  {
   "cell_type": "markdown",
   "id": "fc94af5b",
   "metadata": {},
   "source": [
    "## 2nd cluster Customer ids"
   ]
  },
  {
   "cell_type": "code",
   "execution_count": 40,
   "id": "f9ef230f",
   "metadata": {},
   "outputs": [
    {
     "data": {
      "text/plain": [
       "array([ 5524,  4141,  5324,  7446,   965,  8180,  1993,  4047,  8755,\n",
       "        2968,  6566,  9381,  8375,  3076,  1012,  6518,  4477,  6312,\n",
       "        8132,  1618,  7247,  3037,  9370,  2683,  7431,  3267,  9215,\n",
       "         367,  9805, 11051,  8026,   433,  9597, 11084,  2937,  9949,\n",
       "        3830,  7987,  7055,  9260, 10573,  3934,  7300,  8727,   380,\n",
       "        2877,   454,  7079,  7375,   709,  5341,  3233,  6439,  2176,\n",
       "        8932, 10992,   309,  1184,  2379,  2304,  3445,  4391, 10144,\n",
       "        8148,  2926,  3924,  5596,  4440,  9478,  9750,  2607, 10675,\n",
       "        9707,  6245,  2579,  9365,  4107,  9336,  5837, 10704,  2928,\n",
       "        1245,  1729,  6720,  9799,  9999,  2552,  8890,  9973, 10882,\n",
       "        7030,  8581,  8746,  4324,   238,  9699, 10664,  1142,  2807,\n",
       "        6131,  6233,  1992,  9697,  3916,   564,   178,  5512,  8970,\n",
       "        5172,  5562, 10965,  9426,  6605,  3136,  5140,  4945,  8939,\n",
       "        4943,   713,  4702,  3281,   702,  4769,  7822,  9240,   448,\n",
       "        9780, 10681, 10232,  9120,  1029,  2574,   254,  2453,   895,\n",
       "       10299,  2782,  4299, 10727,  5156,   944,  1907,  2131,  2942,\n",
       "       10928,  6661,    55,  5084,  9153, 10379,  3197,  2920,  4673,\n",
       "        2891,  4910, 10142,  7230, 10888,  9977, 10196,  6384,  6991,\n",
       "        3336,  1272,  1044, 10159,  5114,  4990, 11171,   610,  9384,\n",
       "        5682,  4073,  7938,  7094,  3667,  3870,  4012,  5909,  6887,\n",
       "        1911,  8786,  8897,  6299, 10846,  6722,   796,   310,  3483,\n",
       "        4599,  7352,  2350,  3732, 11176,  3900,     1,  5989,  8560,\n",
       "        3321,  5121,  5935,  9477,  5794,  1456,   425,  2036,   115,\n",
       "        8687,   773,  8825,  2930,  8800,  9224,  5519,  2727,  9760,\n",
       "        7922,  1628,  1204,  3673,   760,  8957,  4128,  3202,  1328,\n",
       "        8405,  2882,  5748,  2134,  3635,  7801,  3933,  6357,  1600,\n",
       "        5407,  3056,  6872,  7378,  7646,  8492,  1212, 10473,  9984,\n",
       "        7453, 10634,  6059,  8911,  8985,  5863,  3717,   966,  4491,\n",
       "        3759,  1162,  2223,  3807, 10832, 10855,  6295,  1509,  9964,\n",
       "        6001, 10552,  4741,   246,  1524,  4356,  2320,  6749,  3412,\n",
       "         849,  5430,  7755,  1453,  8310,   967,  1077,   640,  8432,\n",
       "        6218,  3598, 10660, 10669,   359,  1829,  9855,  6283,  6606,\n",
       "        7342,  9500,  1118,   232,  1627,  4058,  8210,   843, 10833,\n",
       "        8534,  5153,   961,  5011,  6653,  9094,  5207,  1740,   635,\n",
       "       10319,  9516,  7384,   339,   378,  5543,  5841,  5758,  6658,\n",
       "        4603,  4554,  9212,  2535,  5510,   873,  4698,  7793,  5232,\n",
       "        3834,  7712,  1343,  9967,  6181, 10507,  2698, 10476,  5675,\n",
       "        4743,  1542,  4405,  3421,  9958,  6613,  8402,  8783,   618,\n",
       "        9121,  6376,  2561,  3388,  5221,  2525,  8233,  9483,  4690,\n",
       "        4406,  4070,    25,  9559,  2849,  7787,  9988,  5529,  5763,\n",
       "        3478,  7250,  2072,  4093,  3594,  3584,   851,  7706, 10128,\n",
       "        9451,  1490,  2408,  6050,  3463,  1079,  8920,  3852,  5589,\n",
       "         591,  8091,  5462,  2793,   879,  1497, 10478,  6257,  2471,\n",
       "        1041,  7022,  5272,  4656,  4480, 10099,   940,  3011,  3298,\n",
       "        6097,  8041,   252, 10906,  3427,  5209,  6575,  3091,  5177,\n",
       "        6409,  8395,  1378,  1165,  6457,  6912,  5299,  4127,  4065,\n",
       "        2570,  9256,  7397,  6349,  8852,  1958,  1351,  7732, 10091,\n",
       "        3498,  1000,  2499,  7500, 10556,  9710,  5847,  3571,  5092,\n",
       "        5883,  2118,  2797,  9167,  9645, 10678,  2870,  1513,  7002,\n",
       "        8439,   762,  9284,  6237,   269, 10513,  5782, 10057, 10307,\n",
       "        2415,  1440,  5441,  7129,  9847,   531,  8527,  7872,  4609,\n",
       "        4427,  2886,   521,  1630,  3678,  6715,  3766,  3426,  3074,\n",
       "       10702, 10858,  6892,  8780,    17,  5544,  5831,  7101, 10176,\n",
       "       10872,  1867,  1518,  2878,  4827,  6250,  2162,  7919,  5626,\n",
       "        8925,  3009,  7165,  6281, 10311,  5117,  1406,  9797, 10841,\n",
       "         176,  3599,   832,  1951,  9323,  3945,  3799,  3491,  9119,\n",
       "        4786,  5872,  5628,  5631,  4974,  3507,  4426,  7441,  1071,\n",
       "       10061, 10897,  7899,  2406, 10643,  2254, 10281,  6497,  1052,\n",
       "        4865,  1146,  3422,   340,  9729,  1008,  1916,  9907,  4915,\n",
       "        2493,  1631, 10127,  5136,  7873,  5186, 10157,  5667,   902,\n",
       "         977,  9362,  3968,  4084,  2829,   492,  4377,  8858,  9723,\n",
       "        7118, 10722,  2632, 10968, 11133,  1092,   607,  6261,  4286,\n",
       "        4749,  4478,  4201,  9817, 10870,  4001,  7270], dtype=int64)"
      ]
     },
     "execution_count": 40,
     "metadata": {},
     "output_type": "execute_result"
    }
   ],
   "source": [
    "df1[df1[\"Cluster\"]==2].ID.values"
   ]
  },
  {
   "cell_type": "markdown",
   "id": "c4862565",
   "metadata": {},
   "source": [
    "###  2nd cluster Customer ids"
   ]
  },
  {
   "cell_type": "code",
   "execution_count": 41,
   "id": "9ef6fe51",
   "metadata": {},
   "outputs": [
    {
     "data": {
      "text/plain": [
       "array([ 2125,  2114,  6565,  5376,  1966,  4339,  8601,  1371,  8614,\n",
       "        4114,  2225,  6260, 10383,  6853,  4137,  9369,  1357,  1402,\n",
       "        1859,  7503,   535,  8504,  4646,  4518,  8908, 10991,  5077,\n",
       "         999,  1592,  7215,  1491, 11071,  1685,   821,  8690, 10240,\n",
       "        2730, 10095,  8475,  6637,  8717, 10314,  6935, 10562,  6982,\n",
       "        5602,  6999,  9938,  6422, 10424,  2798,  6521,     0,  6274,\n",
       "        2075,  4785,   460,  9449,   313,  9940,  9529,  9265,  8867,\n",
       "       10089,  1225,   291,  7828,  3762,  1672, 10983, 10102,  4543,\n",
       "        7119,  9274,  6963,  6320,  1802,  7214, 10151,  7381,  9560,\n",
       "        1150, 10172,  1411,  1826,   175,  9185, 11056,  6184,  6142,\n",
       "        7274,  5125,  5955,  6202,  8318,  2669,  7683,  3428,  3523,\n",
       "        7106,  5067,  4216,  1361,  6932,  1340,  3767,  3725,  6694,\n",
       "        1137,  2276,  4947, 10648,  7851,  7059,  2416,  7999,  2021,\n",
       "        9286,  2426,  3403, 11088,   716,   466, 10584,  6071,  4320,\n",
       "        6036,   203,  4607,  3711,  2532,  4322,  2004,  6931,  5547,\n",
       "       10955,  9504,  8314,  3174,  3179,  9058,  5057,  7627,  4501,\n",
       "        3075,  7972,   988,  1503, 10972,  6583, 10156,  9624,  8923,\n",
       "        6945,   701,  3856,  4149,  1173,  4611,  4679,  4248,  5555,\n",
       "        3867,  9204,  9937,  9596,  6327,  9826,  1501, 10767,  7279,\n",
       "         143,  1277,  8029,  6988, 10479,  3619, 10936,  6086,   437,\n",
       "       11101, 10430,  7875,  7072,  6255,  5564,  5278,  3560, 10548,\n",
       "        6974,  7723,  6406,  4508,  5331, 10582,  1915,  4964, 10736,\n",
       "        3194,  6543, 10446,  3749,  9930,  9145,  9687,  6303,  9493,\n",
       "        5536,  9499,  2150,  9904,  5687,  5332,  5848, 10343,  4856,\n",
       "        1031, 10140,  9353,  7631,  4789,  1446,  5830,  4597, 10925,\n",
       "        5046,  8624,  6445, 11074, 10150,  7053,  4654, 10619,  9308,\n",
       "       10505,  8362,  4637,  4483,  8931,  2008,  3139, 10037, 10673,\n",
       "        5303,  4843,  6810,  5386,  4640, 10489, 10981,  9209, 10286,\n",
       "        2611,  5718,  8164,  4580,  9305,  8545,  7962,  8952,   241,\n",
       "        5236,  7010,  5204,  9220,  9888,  1020,  4998,  4002,  4767,\n",
       "        4475,  7290,  4507, 11013, 10766,  3005,  2875, 11112,  6421,\n",
       "        4207,  3535,  8707,  6072,  7348,  1127,  4944,  4790, 10245,\n",
       "        5538,   146,   375,  7451,   850,  4756,  2975,  2894,  8015,\n",
       "         819,  5031,  7959,  6905, 10486,  2410,  8278,  5735,   590,\n",
       "        8732,  5545,  2995,  7789,  7192,  2324,   697,  4500,   257,\n",
       "        9757,  4138,  7718,  9606,   810,  2147,  3979,  6049,  3910,\n",
       "        9400,  7488,  2931,  3698,  9010,  1577,  5336,  6024,  6055,\n",
       "        4394,  8427,  7143,  1650,  9206,   158,  1945,  5147,  9495,\n",
       "        1745, 10590,  5080,  2407,  1065,  2674, 10909,  2963,  4310,\n",
       "        7000,  9349,  4530,  1553,  4682,  8204,  1232,  1927,  6652,\n",
       "        6246,  4399, 10133, 10524,  7521,   217,  8370,  2939,  9743,\n",
       "        1763, 10770,  9463,  6318,  3643,  3967,   486,  9264,  4278,\n",
       "        8643,   202,   830, 10530,   528,  7725,  7321,  4828,  7476,\n",
       "        4390,  1081,  4261,  5350,  9298,  9952,  3503,  4608,  2612,\n",
       "        5185,  5453,  2565,  8969,  9971,  6729,  9242,  5120,  3859,\n",
       "       10711,  1665,  7005,  4931,  2295,  2781,  1964,  3690,  3433,\n",
       "        3389,  1215,  1891,   295,   550, 10742,  4676,   477,  7832,\n",
       "        7396,  1172,   569,  4686,  3828, 10129, 10092,  5796, 10814,\n",
       "        9292,  7881,   737,  6616,  2631,  8895,  8584,  2681,  6173,\n",
       "        7960,  2831,  6977,  1619,  1990,  8093, 10177,  9166,  5302,\n",
       "        4687,  7849,  6906,  3170,  1168,  9595, 10163,  9029,  1459,\n",
       "        3254,  9064,  2186,  8602,  1399,  1570,  6461,  5113,  2747,\n",
       "        3010,  1743,  5558,  4619,  5896,   544,  5832,  6417,  3283,\n",
       "        3138,  4994,  7966,  2181,  6200,  1139, 10413, 10868, 10676,\n",
       "        2495,  3434,  6428,  2109,  6203,  3595,  8537,  4331,  3334,\n",
       "       10949,  6248, 10164,  6815,  4122,  6870,  2002,   500,  3262,\n",
       "        7861,  4837, 10701,  2079,  2591,  2345,   123,  2712,  5396,\n",
       "        2802,  6343,  3107,  7734,  7428,  1103,  6544,  2909,  3104,\n",
       "        8659,  6262,  2088,  6292,  3919, 11181,  4369,  9790,  7233,\n",
       "        7313,  2429,  3520, 10394,  6721,  1772,  1544,  2666,  5721,\n",
       "       10652,  4418,  8722,  2736, 10469,  3661,  9589,  7366,  8235],\n",
       "      dtype=int64)"
      ]
     },
     "execution_count": 41,
     "metadata": {},
     "output_type": "execute_result"
    }
   ],
   "source": [
    "df1[df1[\"Cluster\"]==3].ID.values"
   ]
  },
  {
   "cell_type": "markdown",
   "id": "acac5feb",
   "metadata": {},
   "source": [
    "### Based on the cluster properties retailer have to plan corresponding marketing campaigns "
   ]
  },
  {
   "cell_type": "code",
   "execution_count": null,
   "id": "d0589d0c",
   "metadata": {},
   "outputs": [],
   "source": []
  }
 ],
 "metadata": {
  "kernelspec": {
   "display_name": "Python 3 (ipykernel)",
   "language": "python",
   "name": "python3"
  },
  "language_info": {
   "codemirror_mode": {
    "name": "ipython",
    "version": 3
   },
   "file_extension": ".py",
   "mimetype": "text/x-python",
   "name": "python",
   "nbconvert_exporter": "python",
   "pygments_lexer": "ipython3",
   "version": "3.9.7"
  }
 },
 "nbformat": 4,
 "nbformat_minor": 5
}
